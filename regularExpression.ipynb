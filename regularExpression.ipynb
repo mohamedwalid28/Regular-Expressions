{
 "cells": [
  {
   "cell_type": "markdown",
   "id": "bd847926-ea80-4415-82b7-20840abd7b69",
   "metadata": {},
   "source": [
    "Session Task"
   ]
  },
  {
   "cell_type": "code",
   "execution_count": 1,
   "id": "0a7d2002",
   "metadata": {},
   "outputs": [
    {
     "name": "stdin",
     "output_type": "stream",
     "text": [
      "Enter the number of entries:  2\n",
      "Enter name, phone number, and email (separated by spaces):  Mohamed_Walid 0121152932 mohamedWalid2828@gmail.com\n",
      "Enter name, phone number, and email (separated by spaces):  mohamedWalid 01019679660 midow950@gmail.com\n"
     ]
    },
    {
     "name": "stdout",
     "output_type": "stream",
     "text": [
      "Data written to user_data.txt\n"
     ]
    }
   ],
   "source": [
    "\n",
    "    names = []\n",
    "    phone_numbers = []\n",
    "    email_addresses = []\n",
    "\n",
    "    num_entries = int(input(\"Enter the number of entries: \"))\n",
    "\n",
    "    for _ in range(num_entries):\n",
    "        entry = input(\"Enter name, phone number, and email (separated by spaces): \")\n",
    "        parts = entry.split()\n",
    "\n",
    "        if len(parts) == 3:\n",
    "            names.append(parts[0])\n",
    "            phone_numbers.append(parts[1])\n",
    "            email_addresses.append(parts[2])\n",
    "        else:\n",
    "            print(\"Invalid input format. Skipping this entry.\")\n",
    "\n",
    "    with open(\"user_data.txt\", \"w\") as file:\n",
    "        for i in range(len(names)):\n",
    "            file.write(f\"Name: {names[i]}, Phone: {phone_numbers[i]}, Email: {email_addresses[i]}\\n\")\n",
    "\n",
    "    print(\"Data written to user_data.txt\")\n"
   ]
  },
  {
   "cell_type": "markdown",
   "id": "a7655708-954b-4434-994d-8b3869bb0967",
   "metadata": {},
   "source": [
    "advanced Task 1"
   ]
  },
  {
   "cell_type": "code",
   "execution_count": 7,
   "id": "fd18f436-dda3-4a0f-83a7-ad51dfc3298f",
   "metadata": {},
   "outputs": [
    {
     "name": "stdin",
     "output_type": "stream",
     "text": [
      "Enter the number of entries:  5\n",
      "Enter name, phone number, and email (separated by spaces):  mido 01211552932 mido@gmail.com\n",
      "Enter name, phone number, and email (separated by spaces):  mido 01211552932 mido@gmail.com\n",
      "Enter name, phone number, and email (separated by spaces):  mido 01211552932 mido@gmail.com\n",
      "Enter name, phone number, and email (separated by spaces):  mido 01211552932 mido@gmail.com\n",
      "Enter name, phone number, and email (separated by spaces):  \n"
     ]
    },
    {
     "name": "stdout",
     "output_type": "stream",
     "text": [
      "Invalid input format. Skipping this entry.\n",
      "Data written to user_data_adv1.txt\n"
     ]
    }
   ],
   "source": [
    "import re\n",
    "import random\n",
    "\n",
    "\n",
    "data_entries = []\n",
    "\n",
    "num_entries = int(input(\"Enter the number of entries: \"))\n",
    "\n",
    "for _ in range(num_entries):\n",
    "    entry = input(\"Enter name, phone number, and email (separated by spaces): \")\n",
    "\n",
    "    match = re.match(r\"(\\w+)\\s+(\\d{11})\\s+(\\w+@\\w+\\.\\w+)\", entry)\n",
    "\n",
    "    if match:\n",
    "        name = match.group(1)\n",
    "        phone = match.group(2)\n",
    "        email = match.group(3)\n",
    "        data_entries.append((name, phone, email))\n",
    "    else:\n",
    "        print(\"Invalid input format. Skipping this entry.\")\n",
    "\n",
    "with open(\"user_data_adv1.txt\", \"w\") as file:\n",
    "    for entry in data_entries:\n",
    "        shuffled_entry = random.sample(entry, len(entry))\n",
    "        file.write(f\"Values: {', '.join(shuffled_entry)}\\n\")\n",
    "\n",
    "print(\"Data written to user_data_adv1.txt\")\n"
   ]
  },
  {
   "cell_type": "markdown",
   "id": "87ba6fa1-eca7-4122-ba00-127d7e2ce0ea",
   "metadata": {},
   "source": [
    "Advanced Task 2"
   ]
  },
  {
   "cell_type": "code",
   "execution_count": 13,
   "id": "e93bd9c9",
   "metadata": {},
   "outputs": [
    {
     "name": "stdin",
     "output_type": "stream",
     "text": [
      "Enter the number of entries:  1\n",
      "Enter name, phone number, and email (separated by spaces):  mido 01211552932 mido@gmail.com\n"
     ]
    },
    {
     "name": "stdout",
     "output_type": "stream",
     "text": [
      "Data written to user_data_adv2.txt\n"
     ]
    }
   ],
   "source": [
    "import re\n",
    "\n",
    "def main():\n",
    "    data_entries = []\n",
    "\n",
    "    num_entries = int(input(\"Enter the number of entries: \"))\n",
    "\n",
    "    for _ in range(num_entries):\n",
    "        entry = input(\"Enter name, phone number, and email (separated by spaces): \")\n",
    "\n",
    "        match = re.match(r\"(\\w+)\\s+(\\d{11})\\s+(\\w+@\\w+\\.\\w+)\", entry)\n",
    "\n",
    "        if match:\n",
    "            name = match.group(1)\n",
    "            phone = match.group(2)\n",
    "            email = match.group(3)\n",
    "            data_entries.append((name, phone, email))\n",
    "        else:\n",
    "            print(\"Invalid input format. Skipping this entry.\")\n",
    "\n",
    "    separators = [' ', '-', '+', '#', ':', '|']\n",
    "\n",
    "    with open(\"user_data_adv2.txt\", \"w\") as file:\n",
    "        for i, entry in enumerate(data_entries):\n",
    "            separator = separators[i % len(separators)]\n",
    "            line = separator.join(entry)\n",
    "            file.write(f\"Line {i + 1}: {line}\\n\")\n",
    "\n",
    "    print(\"Data written to user_data_adv2.txt\")\n",
    "\n",
    "if __name__ == \"__main__\":\n",
    "    main()\n"
   ]
  }
 ],
 "metadata": {
  "kernelspec": {
   "display_name": "Python 3 (ipykernel)",
   "language": "python",
   "name": "python3"
  },
  "language_info": {
   "codemirror_mode": {
    "name": "ipython",
    "version": 3
   },
   "file_extension": ".py",
   "mimetype": "text/x-python",
   "name": "python",
   "nbconvert_exporter": "python",
   "pygments_lexer": "ipython3",
   "version": "3.11.4"
  }
 },
 "nbformat": 4,
 "nbformat_minor": 5
}
